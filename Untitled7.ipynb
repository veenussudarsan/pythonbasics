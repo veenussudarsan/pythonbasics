{
  "nbformat": 4,
  "nbformat_minor": 0,
  "metadata": {
    "colab": {
      "provenance": [],
      "collapsed_sections": [],
      "authorship_tag": "ABX9TyMibdBLfdeWafGXx1uxgxmV",
      "include_colab_link": true
    },
    "kernelspec": {
      "name": "python3",
      "display_name": "Python 3"
    },
    "language_info": {
      "name": "python"
    }
  },
  "cells": [
    {
      "cell_type": "markdown",
      "metadata": {
        "id": "view-in-github",
        "colab_type": "text"
      },
      "source": [
        "<a href=\"https://colab.research.google.com/github/veenussudarsan/pythonbasics/blob/main/Untitled7.ipynb\" target=\"_parent\"><img src=\"https://colab.research.google.com/assets/colab-badge.svg\" alt=\"Open In Colab\"/></a>"
      ]
    },
    {
      "cell_type": "code",
      "execution_count": 1,
      "metadata": {
        "colab": {
          "base_uri": "https://localhost:8080/"
        },
        "id": "GbaJtwgpp7pX",
        "outputId": "4b254473-2cc8-4d79-ba5b-4c4bc86fd90c"
      },
      "outputs": [
        {
          "output_type": "stream",
          "name": "stdout",
          "text": [
            "enter passengers travel sourceJaipur\n",
            "enter travel destinationKerala\n",
            "enter number of passengers88\n",
            "Jaipur\n",
            "Kerala\n",
            "88\n"
          ]
        }
      ],
      "source": [
        "x=str(input(\"enter passengers travel source\"))\n",
        "y=str(input(\"enter travel destination\"))\n",
        "z=int(input(\"enter number of passengers\"))\n",
        "print(x)\n",
        "print(y)\n",
        "print(z)"
      ]
    },
    {
      "cell_type": "code",
      "source": [
        "x=int(input(\"enter total ticket fare\"))\n",
        "y=int(input(\"enter total number of passengers\"))\n",
        "z=x/y\n",
        "print(\"enter ticket fare per person\",z)\n"
      ],
      "metadata": {
        "colab": {
          "base_uri": "https://localhost:8080/"
        },
        "id": "WsKzfKettSIm",
        "outputId": "b5d45356-1736-49a0-9b9f-dbab0dae7974"
      },
      "execution_count": 5,
      "outputs": [
        {
          "output_type": "stream",
          "name": "stdout",
          "text": [
            "enter total ticket fare4000\n",
            "enter total number of passengers40\n",
            "enter ticket fare per person 100.0\n"
          ]
        }
      ]
    },
    {
      "cell_type": "code",
      "source": [
        "x=str(input(\"enter passengers name:\"))\n",
        "z=int(input(\"enter ticket fare:\"))\n",
        "print(x,\"-\",z)"
      ],
      "metadata": {
        "colab": {
          "base_uri": "https://localhost:8080/"
        },
        "id": "p995hybIt95d",
        "outputId": "7cf09dfa-0ea2-450b-a4b0-0cf95c5e640f"
      },
      "execution_count": 6,
      "outputs": [
        {
          "output_type": "stream",
          "name": "stdout",
          "text": [
            "enter passengers name:Atlas\n",
            "enter ticket fare:100\n",
            "Atlas - 100\n"
          ]
        }
      ]
    },
    {
      "cell_type": "code",
      "source": [
        "x=int(input(\"enter total ticket fare:\"))\n",
        "if x>10000:\n",
        "  print(\"eligible for discount\")\n",
        "else:\n",
        "  print(\"no discount\")"
      ],
      "metadata": {
        "colab": {
          "base_uri": "https://localhost:8080/"
        },
        "id": "JjMIItmPv3QD",
        "outputId": "f53f630d-814a-4773-820d-f40e12370719"
      },
      "execution_count": 7,
      "outputs": [
        {
          "output_type": "stream",
          "name": "stdout",
          "text": [
            "enter total ticket fare:18888\n",
            "eligible for discount\n"
          ]
        }
      ]
    },
    {
      "cell_type": "code",
      "source": [
        "x=int(input(\"enter total ticket fare:\"))\n",
        "if x>15000:\n",
        "  print(\"eligible for 20% discount\")\n",
        "else:\n",
        "  print(\"eligible for 10% discount\")"
      ],
      "metadata": {
        "colab": {
          "base_uri": "https://localhost:8080/"
        },
        "id": "yvUWBMVxvmiV",
        "outputId": "92b751d8-457d-49fe-b25e-ea2e7e5ad6c7"
      },
      "execution_count": 8,
      "outputs": [
        {
          "output_type": "stream",
          "name": "stdout",
          "text": [
            "enter total ticket fare:12800\n",
            "eligible for 10% discount\n"
          ]
        }
      ]
    },
    {
      "cell_type": "code",
      "source": [
        "x=int(input(\"enter total ticket fare:\"))\n",
        "if x>15000:\n",
        "  print(x*20/100)\n",
        "elif x>=10000 and x<15000:\n",
        "  print(x*10/100)\n",
        "else:\n",
        "  print(x*5/100)"
      ],
      "metadata": {
        "colab": {
          "base_uri": "https://localhost:8080/"
        },
        "id": "3TmT6-Xdxa6f",
        "outputId": "fa54f84f-84be-4a36-f0fd-2f081cc69b95"
      },
      "execution_count": 9,
      "outputs": [
        {
          "output_type": "stream",
          "name": "stdout",
          "text": [
            "enter total ticket fare:18000\n",
            "3600.0\n"
          ]
        }
      ]
    },
    {
      "cell_type": "code",
      "source": [
        "x=int(input(\"enter a number:\"))\n",
        "if x>0:\n",
        "  print(x,\"is a positive number\")\n",
        "elif x<0:\n",
        "  print(x,\"is a negative number\")\n",
        "else:\n",
        "  print(x,\"is zero\")"
      ],
      "metadata": {
        "colab": {
          "base_uri": "https://localhost:8080/"
        },
        "id": "bGdg-6N4y82O",
        "outputId": "f7e9855a-d55b-4232-8b01-d10a031ea70c"
      },
      "execution_count": 10,
      "outputs": [
        {
          "output_type": "stream",
          "name": "stdout",
          "text": [
            "enter a number:-80\n",
            "-80 is a negative number\n"
          ]
        }
      ]
    },
    {
      "cell_type": "code",
      "source": [
        "x=int(input(\"enter age of the passenger:\"))\n",
        "if x>18:\n",
        "  print(x,\"-Adult\")\n",
        "elif x>=13 and x<=18:\n",
        "  print(x,\"-Teenager\")\n",
        "elif x>=6 and x>=12:\n",
        "  print(x,\"-Kid\")\n",
        "elif x>=2 and x<=5:\n",
        "  print(x,\"-Toddler\")\n",
        "else:\n",
        "  print(x,\"-Infant\")\n"
      ],
      "metadata": {
        "colab": {
          "base_uri": "https://localhost:8080/"
        },
        "id": "rgDuOCYWz4P_",
        "outputId": "20eb45b2-8c12-43a7-ee9b-ce0c4081462b"
      },
      "execution_count": 11,
      "outputs": [
        {
          "output_type": "stream",
          "name": "stdout",
          "text": [
            "enter age of the passenger:5\n",
            "5 -Toddler\n"
          ]
        }
      ]
    },
    {
      "cell_type": "code",
      "source": [
        " x=str(input(\"enter the initials:\"))\n",
        " if x==\"A\":\n",
        "    print(\"It is a vowel\")\n",
        " elif x==\"E\":\n",
        "    print(\"It is a vowel\")\n",
        " elif x==\"I\":\n",
        "    print(\"It is a vowel\")\n",
        " elif x==\"O\":\n",
        "    print(\"It is a vowel\")\n",
        " elif x==\"U\":\n",
        "    print(\"It is a vowel\")\n",
        " else:\n",
        "    print(\"It is NOT a vowel\")"
      ],
      "metadata": {
        "colab": {
          "base_uri": "https://localhost:8080/"
        },
        "id": "Whz1FWdk17bg",
        "outputId": "d4db34fd-4115-41bb-fc76-31d49bf9c5df"
      },
      "execution_count": 14,
      "outputs": [
        {
          "output_type": "stream",
          "name": "stdout",
          "text": [
            "enter the initials:v\n",
            "It is NOT a vowel\n"
          ]
        }
      ]
    },
    {
      "cell_type": "code",
      "source": [
        "x=input(\"enter passengers name:\")\n",
        "for a in x:\n",
        "  print(a)"
      ],
      "metadata": {
        "colab": {
          "base_uri": "https://localhost:8080/"
        },
        "id": "KgcUhYqQ4Zt6",
        "outputId": "a44a7f6e-4c9b-47e8-f0e8-91885ddf3287"
      },
      "execution_count": 15,
      "outputs": [
        {
          "output_type": "stream",
          "name": "stdout",
          "text": [
            "enter passengers name:Harry Styles\n",
            "H\n",
            "a\n",
            "r\n",
            "r\n",
            "y\n",
            " \n",
            "S\n",
            "t\n",
            "y\n",
            "l\n",
            "e\n",
            "s\n"
          ]
        }
      ]
    },
    {
      "cell_type": "code",
      "source": [
        "for a in range(45,88,2):\n",
        "  print(a)"
      ],
      "metadata": {
        "colab": {
          "base_uri": "https://localhost:8080/"
        },
        "id": "CBQa3jmY6OIu",
        "outputId": "fb9ce1a8-f933-44da-dd68-ce0eb0ef8d2f"
      },
      "execution_count": 16,
      "outputs": [
        {
          "output_type": "stream",
          "name": "stdout",
          "text": [
            "45\n",
            "47\n",
            "49\n",
            "51\n",
            "53\n",
            "55\n",
            "57\n",
            "59\n",
            "61\n",
            "63\n",
            "65\n",
            "67\n",
            "69\n",
            "71\n",
            "73\n",
            "75\n",
            "77\n",
            "79\n",
            "81\n",
            "83\n",
            "85\n",
            "87\n"
          ]
        }
      ]
    },
    {
      "cell_type": "code",
      "source": [
        "k=0\n",
        "for a in range(1,6):\n",
        "  k=a+k\n",
        "  print(a,\"   \",k)"
      ],
      "metadata": {
        "colab": {
          "base_uri": "https://localhost:8080/"
        },
        "id": "3alLNcj77eFD",
        "outputId": "c86ab4c4-5b72-44d9-91f5-eabe9698c3aa"
      },
      "execution_count": 17,
      "outputs": [
        {
          "output_type": "stream",
          "name": "stdout",
          "text": [
            "1     1\n",
            "2     3\n",
            "3     6\n",
            "4     10\n",
            "5     15\n"
          ]
        }
      ]
    }
  ]
}