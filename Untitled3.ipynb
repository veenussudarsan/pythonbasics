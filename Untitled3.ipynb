{
  "nbformat": 4,
  "nbformat_minor": 0,
  "metadata": {
    "colab": {
      "provenance": [],
      "collapsed_sections": [],
      "authorship_tag": "ABX9TyO06PVRynif8KmHzwcLDl8m",
      "include_colab_link": true
    },
    "kernelspec": {
      "name": "python3",
      "display_name": "Python 3"
    },
    "language_info": {
      "name": "python"
    }
  },
  "cells": [
    {
      "cell_type": "markdown",
      "metadata": {
        "id": "view-in-github",
        "colab_type": "text"
      },
      "source": [
        "<a href=\"https://colab.research.google.com/github/veenussudarsan/pythonbasics/blob/main/Untitled3.ipynb\" target=\"_parent\"><img src=\"https://colab.research.google.com/assets/colab-badge.svg\" alt=\"Open In Colab\"/></a>"
      ]
    },
    {
      "cell_type": "code",
      "execution_count": 5,
      "metadata": {
        "id": "FReWsxWRr_2v"
      },
      "outputs": [],
      "source": [
        "def Veenus():\n",
        "  print(\"Hello World I am Veenus Sudarsan and I am obsessed with Taylor Swift\")"
      ]
    },
    {
      "cell_type": "code",
      "source": [
        "Veenus()"
      ],
      "metadata": {
        "colab": {
          "base_uri": "https://localhost:8080/"
        },
        "id": "727C11BItWcm",
        "outputId": "863b867c-0c59-4660-a792-54586fd660e3"
      },
      "execution_count": 4,
      "outputs": [
        {
          "output_type": "stream",
          "name": "stdout",
          "text": [
            "Hello World I am Veenus Sudarsan and I am obsessed with Taylor Swift\n"
          ]
        }
      ]
    },
    {
      "cell_type": "code",
      "source": [
        "def Veenus(x,y):\n",
        "  z=x+y\n",
        "  print(\"Result = \",z)\n"
      ],
      "metadata": {
        "id": "BK_iDEVOttDi"
      },
      "execution_count": 6,
      "outputs": []
    },
    {
      "cell_type": "code",
      "source": [
        "Veenus(5,6)"
      ],
      "metadata": {
        "colab": {
          "base_uri": "https://localhost:8080/"
        },
        "id": "FxZnYG-vvLPj",
        "outputId": "c8ec1c2a-9445-464f-ca3f-997425e39e17"
      },
      "execution_count": 7,
      "outputs": [
        {
          "output_type": "stream",
          "name": "stdout",
          "text": [
            "Result =  11\n"
          ]
        }
      ]
    },
    {
      "cell_type": "code",
      "source": [
        "def Veenus(x,y):\n",
        "  z=x-y\n",
        "  return z"
      ],
      "metadata": {
        "id": "QsK535LJvRiy"
      },
      "execution_count": 8,
      "outputs": []
    },
    {
      "cell_type": "code",
      "source": [
        "Veenus(10,5)"
      ],
      "metadata": {
        "colab": {
          "base_uri": "https://localhost:8080/"
        },
        "id": "yL2uZpxTvxV5",
        "outputId": "9c1ee53f-92e3-4e8d-bf28-1aa96ea07e19"
      },
      "execution_count": 9,
      "outputs": [
        {
          "output_type": "execute_result",
          "data": {
            "text/plain": [
              "5"
            ]
          },
          "metadata": {},
          "execution_count": 9
        }
      ]
    },
    {
      "cell_type": "code",
      "source": [
        "def Veenus(x,y):\n",
        "  z=x*y\n",
        "  return z"
      ],
      "metadata": {
        "id": "zi-WUR7tv0or"
      },
      "execution_count": 10,
      "outputs": []
    },
    {
      "cell_type": "code",
      "source": [
        "Veenus(8,10)"
      ],
      "metadata": {
        "colab": {
          "base_uri": "https://localhost:8080/"
        },
        "id": "TclZ4M5KwCPS",
        "outputId": "58b6e08a-0920-42ef-c950-e662c7c48106"
      },
      "execution_count": 11,
      "outputs": [
        {
          "output_type": "execute_result",
          "data": {
            "text/plain": [
              "80"
            ]
          },
          "metadata": {},
          "execution_count": 11
        }
      ]
    },
    {
      "cell_type": "code",
      "source": [
        "def Harry(salary):\n",
        "  if salary>800000:\n",
        "    print(\"I am rich\")\n",
        "  if salary<800000:\n",
        "    print(\"I am broke\")"
      ],
      "metadata": {
        "id": "umPs9UxxwHDA"
      },
      "execution_count": 20,
      "outputs": []
    },
    {
      "cell_type": "code",
      "source": [
        "x=int(input(\"enter your salary -\"))\n",
        "Harry(x)"
      ],
      "metadata": {
        "colab": {
          "base_uri": "https://localhost:8080/"
        },
        "id": "4yBrs2lNz3eS",
        "outputId": "431de6f6-33aa-49a2-d882-a1caec2b0a99"
      },
      "execution_count": 21,
      "outputs": [
        {
          "output_type": "stream",
          "name": "stdout",
          "text": [
            "enter your salary -100000000\n",
            "I am rich\n"
          ]
        }
      ]
    },
    {
      "cell_type": "code",
      "source": [
        "def Niall(y):\n",
        "  k=0\n",
        "  for a in range(y):\n",
        "    k=k+a\n",
        "  print(k)\n",
        "x=int(input(\"Enter a number\"))\n",
        "Niall(x)"
      ],
      "metadata": {
        "colab": {
          "base_uri": "https://localhost:8080/"
        },
        "id": "rdh1x_Ws4G_z",
        "outputId": "b8dc9c6d-d456-4e98-d3d0-66c4cb102621"
      },
      "execution_count": 27,
      "outputs": [
        {
          "output_type": "stream",
          "name": "stdout",
          "text": [
            "Enter a number10\n",
            "45\n"
          ]
        }
      ]
    },
    {
      "cell_type": "code",
      "source": [
        "def add(x,y):\n",
        "  print(x+y)\n",
        "def sub(x,y):\n",
        "  print(x-y)\n",
        "def mul(x,y):\n",
        "  print(x*y)\n",
        "def div(x,y):\n",
        "  print(x/y)\n",
        "  "
      ],
      "metadata": {
        "id": "8kqSbGMg5npY"
      },
      "execution_count": 28,
      "outputs": []
    },
    {
      "cell_type": "code",
      "source": [
        "x=int(input(\"Enter the first number\"))\n",
        "y=int(input(\"Enter the second number\"))\n",
        "add(x,y)"
      ],
      "metadata": {
        "colab": {
          "base_uri": "https://localhost:8080/"
        },
        "id": "VIWjah3f9PCL",
        "outputId": "46f47d5f-88ce-497d-a20f-054ef0ccdd38"
      },
      "execution_count": 29,
      "outputs": [
        {
          "output_type": "stream",
          "name": "stdout",
          "text": [
            "Enter the first number40\n",
            "Enter the second number60\n",
            "100\n"
          ]
        }
      ]
    },
    {
      "cell_type": "code",
      "source": [],
      "metadata": {
        "id": "l7Lm4uD096j8"
      },
      "execution_count": null,
      "outputs": []
    },
    {
      "cell_type": "code",
      "source": [
        "x=int(input(\"Enter the first number\"))\n",
        "y=int(input(\"Enter the second number\"))\n",
        "sub(x,y)"
      ],
      "metadata": {
        "colab": {
          "base_uri": "https://localhost:8080/"
        },
        "outputId": "bb6ca084-985d-4a65-84dd-5cd513e88bcd",
        "id": "-obYaPOq-Yj_"
      },
      "execution_count": 30,
      "outputs": [
        {
          "output_type": "stream",
          "name": "stdout",
          "text": [
            "Enter the first number25\n",
            "Enter the second number10\n",
            "15\n"
          ]
        }
      ]
    },
    {
      "cell_type": "code",
      "source": [],
      "metadata": {
        "id": "E4O6LMDY-fs5"
      },
      "execution_count": 30,
      "outputs": []
    },
    {
      "cell_type": "code",
      "source": [
        "x=int(input(\"Enter the first number\"))\n",
        "y=int(input(\"Enter the second number\"))\n",
        "mul(x,y)"
      ],
      "metadata": {
        "colab": {
          "base_uri": "https://localhost:8080/"
        },
        "outputId": "cb2689f0-2278-455e-9e21-689f247215d9",
        "id": "a5MvRGW3-ljq"
      },
      "execution_count": 31,
      "outputs": [
        {
          "output_type": "stream",
          "name": "stdout",
          "text": [
            "Enter the first number100\n",
            "Enter the second number20\n",
            "2000\n"
          ]
        }
      ]
    },
    {
      "cell_type": "code",
      "source": [],
      "metadata": {
        "id": "huq_P3EQ-oyV"
      },
      "execution_count": 31,
      "outputs": []
    },
    {
      "cell_type": "code",
      "source": [
        "x=int(input(\"Enter the first number\"))\n",
        "y=int(input(\"Enter the second number\"))\n",
        "div(x,y)"
      ],
      "metadata": {
        "colab": {
          "base_uri": "https://localhost:8080/"
        },
        "outputId": "5790afe5-3133-49db-dcac-3f409ac07b64",
        "id": "5RpGe6WE-sbv"
      },
      "execution_count": 32,
      "outputs": [
        {
          "output_type": "stream",
          "name": "stdout",
          "text": [
            "Enter the first number60\n",
            "Enter the second number15\n",
            "4.0\n"
          ]
        }
      ]
    },
    {
      "cell_type": "code",
      "source": [],
      "metadata": {
        "id": "0DIc4XYx-ujC"
      },
      "execution_count": 32,
      "outputs": []
    }
  ]
}