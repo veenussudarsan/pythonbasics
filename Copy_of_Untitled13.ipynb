{
  "nbformat": 4,
  "nbformat_minor": 0,
  "metadata": {
    "colab": {
      "provenance": [],
      "authorship_tag": "ABX9TyPcKgQ9zMoftMPYAzhdNqpc",
      "include_colab_link": true
    },
    "kernelspec": {
      "name": "python3",
      "display_name": "Python 3"
    },
    "language_info": {
      "name": "python"
    }
  },
  "cells": [
    {
      "cell_type": "markdown",
      "metadata": {
        "id": "view-in-github",
        "colab_type": "text"
      },
      "source": [
        "<a href=\"https://colab.research.google.com/github/veenussudarsan/pythonbasics/blob/main/Copy_of_Untitled13.ipynb\" target=\"_parent\"><img src=\"https://colab.research.google.com/assets/colab-badge.svg\" alt=\"Open In Colab\"/></a>"
      ]
    },
    {
      "cell_type": "code",
      "execution_count": null,
      "metadata": {
        "colab": {
          "base_uri": "https://localhost:8080/"
        },
        "id": "KR_rQw6QsyyH",
        "outputId": "a17d1347-51c4-42d2-9be9-79343e6fd690"
      },
      "outputs": [
        {
          "output_type": "stream",
          "name": "stdout",
          "text": [
            "Hello world\n"
          ]
        }
      ],
      "source": [
        "def fun_name():\n",
        "  print(\"Hello world\")\n",
        "fun_name()"
      ]
    },
    {
      "cell_type": "code",
      "source": [
        "def fun_name():\n",
        "  print(\"Fifa World Cup 2022\")\n",
        "fun_name()\n"
      ],
      "metadata": {
        "colab": {
          "base_uri": "https://localhost:8080/"
        },
        "id": "NC5No6lotGCY",
        "outputId": "116c8203-8a02-4d8d-f98f-1e7a61c4c61c"
      },
      "execution_count": null,
      "outputs": [
        {
          "output_type": "stream",
          "name": "stdout",
          "text": [
            "Fifa World Cup 2022\n"
          ]
        }
      ]
    },
    {
      "cell_type": "code",
      "source": [
        "def fun_name():\n",
        "  x=input(\"Enter your first name\")\n",
        "  y=input(\"Enter your middle name\")\n",
        "  z=input(\"Enter your last name\")\n",
        "  print(x,y,z)\n",
        "fun_name()\n"
      ],
      "metadata": {
        "colab": {
          "base_uri": "https://localhost:8080/"
        },
        "id": "iNhD6TgVvWzz",
        "outputId": "337e5ba5-74e2-402e-b4a9-bdc81e2584b0"
      },
      "execution_count": null,
      "outputs": [
        {
          "output_type": "stream",
          "name": "stdout",
          "text": [
            "Enter your first nameHarry\n",
            "Enter your middle nameEdward\n",
            "Enter your last nameStyles\n",
            "Harry Edward Styles\n"
          ]
        }
      ]
    },
    {
      "cell_type": "code",
      "source": [
        "def fun_name():\n",
        "  x=input(\"Enter your first name\")\n",
        "  y=input(\"Enter your middle name\")\n",
        "  z=input(\"Enter your last name\")\n",
        "  print(z,x,y)\n",
        "fun_name()\n"
      ],
      "metadata": {
        "colab": {
          "base_uri": "https://localhost:8080/"
        },
        "id": "2SGpX6yxxzNu",
        "outputId": "d8ff161c-79fe-4cb9-bbb8-fe9de7817f85"
      },
      "execution_count": null,
      "outputs": [
        {
          "output_type": "stream",
          "name": "stdout",
          "text": [
            "Enter your first nameHarry\n",
            "Enter your middle nameEdward\n",
            "Enter your last nameStyles\n",
            "Styles Harry Edward\n"
          ]
        }
      ]
    },
    {
      "cell_type": "code",
      "source": [
        "def fun_name(country = \"Norway\"):\n",
        "  print(\"I am from \" + country)\n",
        "\n",
        "fun_name(\"Sweden\")\n",
        "fun_name(\"India\")\n",
        "fun_name()\n",
        "fun_name(\"Brazil\")"
      ],
      "metadata": {
        "colab": {
          "base_uri": "https://localhost:8080/"
        },
        "id": "nwU9G4QN0Are",
        "outputId": "4f515f13-bd55-44b3-e24a-e6a62c1d9574"
      },
      "execution_count": null,
      "outputs": [
        {
          "output_type": "stream",
          "name": "stdout",
          "text": [
            "I am from Sweden\n",
            "I am from India\n",
            "I am from Norway\n",
            "I am from Brazil\n"
          ]
        }
      ]
    },
    {
      "cell_type": "code",
      "source": [
        "def fun_name(x):\n",
        "  for y in x:\n",
        "    print(y)\n",
        "\n",
        "k=[\"John\",\"Adam\",\"Mathew\"]\n",
        "\n",
        "fun_name(k)"
      ],
      "metadata": {
        "colab": {
          "base_uri": "https://localhost:8080/"
        },
        "id": "E2tyFJ9o2VUs",
        "outputId": "0de70dab-893e-4b34-9ac5-6bcdd9bd0226"
      },
      "execution_count": null,
      "outputs": [
        {
          "output_type": "stream",
          "name": "stdout",
          "text": [
            "John\n",
            "Adam\n",
            "Mathew\n"
          ]
        }
      ]
    },
    {
      "cell_type": "code",
      "source": [
        "def fun_name(x):\n",
        "  return 5 * x\n",
        "\n",
        "\n",
        "print(fun_name(3))\n",
        "print(fun_name(5))\n",
        "print(fun_name(9))            "
      ],
      "metadata": {
        "colab": {
          "base_uri": "https://localhost:8080/"
        },
        "id": "glizjNYe2Uus",
        "outputId": "e8404fc7-3ced-4730-cc29-2d4f169f5cab"
      },
      "execution_count": null,
      "outputs": [
        {
          "output_type": "stream",
          "name": "stdout",
          "text": [
            "15\n",
            "25\n",
            "45\n"
          ]
        }
      ]
    },
    {
      "cell_type": "code",
      "source": [
        "def fact(n):\n",
        "  if n <= 1:\n",
        "    return n\n",
        "  else:\n",
        "    return(fact(n-1) * n)\n",
        "print(fact(10))"
      ],
      "metadata": {
        "colab": {
          "base_uri": "https://localhost:8080/"
        },
        "id": "yMkPWrvh6Mn2",
        "outputId": "184192c7-1be4-411b-c897-3e809cbedb37"
      },
      "execution_count": null,
      "outputs": [
        {
          "output_type": "stream",
          "name": "stdout",
          "text": [
            "3628800\n"
          ]
        }
      ]
    },
    {
      "cell_type": "code",
      "source": [
        "def funx():\n",
        "  x=10\n",
        "  print(\"Value inside function:\",x)\n",
        "\n",
        "x=20"
      ],
      "metadata": {
        "id": "Uh33G-Ki6hyz"
      },
      "execution_count": null,
      "outputs": []
    }
  ]
}