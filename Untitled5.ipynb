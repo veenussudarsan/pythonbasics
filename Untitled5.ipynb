{
  "nbformat": 4,
  "nbformat_minor": 0,
  "metadata": {
    "colab": {
      "provenance": [],
      "collapsed_sections": [],
      "toc_visible": true,
      "authorship_tag": "ABX9TyPJD74jLZL7hozf6XyZRbOo",
      "include_colab_link": true
    },
    "kernelspec": {
      "name": "python3",
      "display_name": "Python 3"
    },
    "language_info": {
      "name": "python"
    }
  },
  "cells": [
    {
      "cell_type": "markdown",
      "metadata": {
        "id": "view-in-github",
        "colab_type": "text"
      },
      "source": [
        "<a href=\"https://colab.research.google.com/github/veenussudarsan/pythonbasics/blob/main/Untitled5.ipynb\" target=\"_parent\"><img src=\"https://colab.research.google.com/assets/colab-badge.svg\" alt=\"Open In Colab\"/></a>"
      ]
    },
    {
      "cell_type": "code",
      "execution_count": 1,
      "metadata": {
        "colab": {
          "base_uri": "https://localhost:8080/"
        },
        "id": "_c4L4uVomZo5",
        "outputId": "357ca236-98f5-4893-e054-7b529cbadaa8"
      },
      "outputs": [
        {
          "output_type": "stream",
          "name": "stdout",
          "text": [
            "enter first mark38\n",
            "enter second mark40\n",
            "enter third mark32\n",
            "110\n"
          ]
        }
      ],
      "source": [
        "x=int(input(\"enter first mark\"))\n",
        "y=int(input(\"enter second mark\"))\n",
        "z=int(input(\"enter third mark\"))\n",
        "print(x+y+z)"
      ]
    },
    {
      "cell_type": "code",
      "source": [
        "x=int(input(\"enter 1st marks\"))\n",
        "y=int(input(\"enter 2nd marks\"))\n",
        "if x>y:\n",
        "  print(x,\"is greater\")\n",
        "else:\n",
        "  print(y,\"is greater\")"
      ],
      "metadata": {
        "colab": {
          "base_uri": "https://localhost:8080/"
        },
        "id": "gBYZYw5JnI5_",
        "outputId": "3d3d4200-129f-44e6-a0f6-7ff9adcb2832"
      },
      "execution_count": 2,
      "outputs": [
        {
          "output_type": "stream",
          "name": "stdout",
          "text": [
            "enter 1st marks38\n",
            "enter 2nd marks36\n",
            "38 is greater\n"
          ]
        }
      ]
    },
    {
      "cell_type": "code",
      "source": [
        "x=int(input(\"enter 1st number\"))\n",
        "y=int(input(\"enter 2nd number\"))\n",
        "z=int(input(\"enter 3rd number\"))\n",
        "if x>y and x>z:\n",
        "  print(x,\"is greater\")\n",
        "if y>x and y>z:\n",
        "  print(y,\"is greater\")\n",
        "else:\n",
        "  print(z,\"is greater\")"
      ],
      "metadata": {
        "colab": {
          "base_uri": "https://localhost:8080/"
        },
        "id": "1kt3t0Bun3r8",
        "outputId": "998ee6b3-6622-46d0-ca26-894651f3d25d"
      },
      "execution_count": 4,
      "outputs": [
        {
          "output_type": "stream",
          "name": "stdout",
          "text": [
            "enter 1st number40\n",
            "enter 2nd number50\n",
            "enter 3rd number60\n",
            "60 is greater\n"
          ]
        }
      ]
    },
    {
      "cell_type": "code",
      "source": [
        "x=int(input(\"enter a number\"))\n",
        "if x%2==0:\n",
        "  print(\"x is an even number\")\n",
        "else:\n",
        "  print(\"x is an odd number\")"
      ],
      "metadata": {
        "colab": {
          "base_uri": "https://localhost:8080/"
        },
        "id": "a2ysI8Ryqrc-",
        "outputId": "0679071b-ba74-4a11-ab32-239192a1e631"
      },
      "execution_count": 9,
      "outputs": [
        {
          "output_type": "stream",
          "name": "stdout",
          "text": [
            "enter a number88\n",
            "x is an even number\n"
          ]
        }
      ]
    },
    {
      "cell_type": "code",
      "source": [
        "for i in range(1,11):\n",
        "  print(i)"
      ],
      "metadata": {
        "colab": {
          "base_uri": "https://localhost:8080/"
        },
        "id": "2h7W3EPMxKKN",
        "outputId": "192c437f-7f88-4098-a5cc-98bf833fd231"
      },
      "execution_count": 11,
      "outputs": [
        {
          "output_type": "stream",
          "name": "stdout",
          "text": [
            "1\n",
            "2\n",
            "3\n",
            "4\n",
            "5\n",
            "6\n",
            "7\n",
            "8\n",
            "9\n",
            "10\n"
          ]
        }
      ]
    },
    {
      "cell_type": "code",
      "source": [],
      "metadata": {
        "id": "yZYZH57ozSuA"
      },
      "execution_count": null,
      "outputs": []
    }
  ]
}