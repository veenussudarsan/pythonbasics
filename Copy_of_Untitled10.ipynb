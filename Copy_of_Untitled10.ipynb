{
  "nbformat": 4,
  "nbformat_minor": 0,
  "metadata": {
    "colab": {
      "provenance": [],
      "authorship_tag": "ABX9TyOELunXyZ7E1NevHmkhQaIK",
      "include_colab_link": true
    },
    "kernelspec": {
      "name": "python3",
      "display_name": "Python 3"
    },
    "language_info": {
      "name": "python"
    }
  },
  "cells": [
    {
      "cell_type": "markdown",
      "metadata": {
        "id": "view-in-github",
        "colab_type": "text"
      },
      "source": [
        "<a href=\"https://colab.research.google.com/github/veenussudarsan/pythonbasics/blob/main/Copy_of_Untitled10.ipynb\" target=\"_parent\"><img src=\"https://colab.research.google.com/assets/colab-badge.svg\" alt=\"Open In Colab\"/></a>"
      ]
    },
    {
      "cell_type": "code",
      "execution_count": null,
      "metadata": {
        "colab": {
          "base_uri": "https://localhost:8080/"
        },
        "id": "bOCrdo9zwejZ",
        "outputId": "4e57fd51-e4a2-4b20-f608-1b0a4c5c12eb"
      },
      "outputs": [
        {
          "output_type": "stream",
          "name": "stdout",
          "text": [
            "Enter a number:8\n",
            "multipication table:\n",
            "8\n",
            "16\n",
            "24\n",
            "32\n",
            "40\n",
            "48\n",
            "56\n",
            "64\n",
            "72\n",
            "80\n"
          ]
        }
      ],
      "source": [
        "num=int(input(\"Enter a number:\"))\n",
        "k=1\n",
        "print(\"multipication table:\")\n",
        "for i in range(10):\n",
        "  y=num*k\n",
        "  print(y)\n",
        "  k=k+1"
      ]
    },
    {
      "cell_type": "code",
      "source": [
        "count=0\n",
        "number=int(input(\"Enter a number\"))\n",
        "while(number>0):\n",
        "   number=number//10\n",
        "   count=count+1\n",
        "\n",
        "print(\"Total number of digits :\",count)"
      ],
      "metadata": {
        "colab": {
          "base_uri": "https://localhost:8080/"
        },
        "id": "qDr0cfHhyNak",
        "outputId": "0cc79e10-8c3c-4d01-a4eb-41e6ddf5e99c"
      },
      "execution_count": null,
      "outputs": [
        {
          "output_type": "stream",
          "name": "stdout",
          "text": [
            "Enter a number8\n",
            "Total number of digits : 1\n"
          ]
        }
      ]
    },
    {
      "cell_type": "code",
      "source": [
        "num=input(\"Enter the number\")\n",
        "d=0\n",
        "for i in num:\n",
        "  d=d+1\n",
        "print(\"The number of digits:\",d)"
      ],
      "metadata": {
        "colab": {
          "base_uri": "https://localhost:8080/"
        },
        "id": "VnQREzUf0r21",
        "outputId": "012e4f45-6f25-49f6-d50f-b50072b16e56"
      },
      "execution_count": null,
      "outputs": [
        {
          "output_type": "stream",
          "name": "stdout",
          "text": [
            "Enter the number800\n",
            "The number of digits: 3\n"
          ]
        }
      ]
    },
    {
      "cell_type": "code",
      "source": [
        "print(\"Function-Enter Numbers 1-4 to Choose Functions:\")\n",
        "print(\"1. Minimum\")\n",
        "print(\"2. Maximum\")\n",
        "print(\"3. Average\")\n",
        "print(\"4. Round off\")\n",
        "num1=int(input(\"1st mark-\"))\n",
        "num2=int(input(\"2nd mark-\"))\n",
        "num3=int(input(\"3rd mark-\"))\n",
        "num4=int(input(\"4th mark-\"))\n",
        "num5=int(input(\"5th mark-\"))\n",
        "x=int(input(\"Enter the function to be performed-\"))\n",
        "if x==1:\n",
        " print(min(num1,num2,num3,num4,num5))\n",
        "if x==2:\n",
        " print(max(num1,num2,num3,num4,num5))\n",
        "if x==3:\n",
        " print()"
      ],
      "metadata": {
        "colab": {
          "base_uri": "https://localhost:8080/"
        },
        "id": "x03C3SRa3kyU",
        "outputId": "d4432909-bb7c-4488-d324-e0fa7f66d656"
      },
      "execution_count": null,
      "outputs": [
        {
          "output_type": "stream",
          "name": "stdout",
          "text": [
            "Function-Enter Numbers 1-4 to Choose Functions:\n",
            "1. Minimum\n",
            "2. Maximum\n",
            "3. Average\n",
            "4. Round off\n",
            "1st mark-1\n",
            "2nd mark-2\n",
            "3rd mark-445454\n",
            "4th mark-82849\n",
            "5th mark-8888\n",
            "Enter the function to be performed-1\n",
            "1\n"
          ]
        }
      ]
    },
    {
      "cell_type": "code",
      "source": [],
      "metadata": {
        "id": "IOuZzCHoAc0A"
      },
      "execution_count": null,
      "outputs": []
    }
  ]
}