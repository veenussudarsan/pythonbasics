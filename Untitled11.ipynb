{
  "nbformat": 4,
  "nbformat_minor": 0,
  "metadata": {
    "colab": {
      "provenance": [],
      "authorship_tag": "ABX9TyM49HWWwavJR1A0T7n6dU+j",
      "include_colab_link": true
    },
    "kernelspec": {
      "name": "python3",
      "display_name": "Python 3"
    },
    "language_info": {
      "name": "python"
    }
  },
  "cells": [
    {
      "cell_type": "markdown",
      "metadata": {
        "id": "view-in-github",
        "colab_type": "text"
      },
      "source": [
        "<a href=\"https://colab.research.google.com/github/veenussudarsan/pythonbasics/blob/main/Untitled11.ipynb\" target=\"_parent\"><img src=\"https://colab.research.google.com/assets/colab-badge.svg\" alt=\"Open In Colab\"/></a>"
      ]
    },
    {
      "cell_type": "code",
      "execution_count": 1,
      "metadata": {
        "colab": {
          "base_uri": "https://localhost:8080/"
        },
        "id": "rC43emKx0O31",
        "outputId": "add411a8-2029-4b85-adbc-2526dd9ecea1"
      },
      "outputs": [
        {
          "output_type": "execute_result",
          "data": {
            "text/plain": [
              "int"
            ]
          },
          "metadata": {},
          "execution_count": 1
        }
      ],
      "source": [
        "a=10\n",
        "type(a)"
      ]
    },
    {
      "cell_type": "code",
      "source": [
        "b=10.5\n",
        "type(b)\n",
        "  "
      ],
      "metadata": {
        "colab": {
          "base_uri": "https://localhost:8080/"
        },
        "id": "4-Hxd_i73PdG",
        "outputId": "97b0a608-639a-438a-c32c-4e8dc5718755"
      },
      "execution_count": 2,
      "outputs": [
        {
          "output_type": "execute_result",
          "data": {
            "text/plain": [
              "float"
            ]
          },
          "metadata": {},
          "execution_count": 2
        }
      ]
    },
    {
      "cell_type": "code",
      "source": [
        "type(a+b)"
      ],
      "metadata": {
        "colab": {
          "base_uri": "https://localhost:8080/"
        },
        "id": "zXWGJGIz3bwL",
        "outputId": "65358cfe-b66c-4243-e5ce-d810ee4397c4"
      },
      "execution_count": 3,
      "outputs": [
        {
          "output_type": "execute_result",
          "data": {
            "text/plain": [
              "float"
            ]
          },
          "metadata": {},
          "execution_count": 3
        }
      ]
    },
    {
      "cell_type": "code",
      "source": [
        "c=10+5j\n",
        "type(c)"
      ],
      "metadata": {
        "colab": {
          "base_uri": "https://localhost:8080/"
        },
        "id": "q5uiDKaj3vk4",
        "outputId": "79501621-6bbc-46ef-d75a-1784b26a0b3f"
      },
      "execution_count": 5,
      "outputs": [
        {
          "output_type": "execute_result",
          "data": {
            "text/plain": [
              "complex"
            ]
          },
          "metadata": {},
          "execution_count": 5
        }
      ]
    },
    {
      "cell_type": "code",
      "source": [
        "d=\"Veenus Sudarsan\"\n",
        "type(d)"
      ],
      "metadata": {
        "colab": {
          "base_uri": "https://localhost:8080/"
        },
        "id": "_RJZVwPG4Ixh",
        "outputId": "62d2efc3-f67c-4599-847b-7e42014a5653"
      },
      "execution_count": 6,
      "outputs": [
        {
          "output_type": "execute_result",
          "data": {
            "text/plain": [
              "str"
            ]
          },
          "metadata": {},
          "execution_count": 6
        }
      ]
    },
    {
      "cell_type": "code",
      "source": [
        "Friends=['Parvathy','Avanthika','Amritha','Ashritha','Dumbass']\n",
        "print(Friends[1])\n"
      ],
      "metadata": {
        "colab": {
          "base_uri": "https://localhost:8080/"
        },
        "id": "GcmicoQr4prd",
        "outputId": "a9bbbc04-36cf-460b-e6f1-e2637c476739"
      },
      "execution_count": 13,
      "outputs": [
        {
          "output_type": "stream",
          "name": "stdout",
          "text": [
            "Avanthika\n"
          ]
        }
      ]
    },
    {
      "cell_type": "code",
      "source": [
        "Friends.pop(4)"
      ],
      "metadata": {
        "colab": {
          "base_uri": "https://localhost:8080/",
          "height": 35
        },
        "id": "5OORcmau5eMs",
        "outputId": "a52a5b59-4339-498a-de8e-4b8841efcb5c"
      },
      "execution_count": 15,
      "outputs": [
        {
          "output_type": "execute_result",
          "data": {
            "text/plain": [
              "'Dumbass'"
            ],
            "application/vnd.google.colaboratory.intrinsic+json": {
              "type": "string"
            }
          },
          "metadata": {},
          "execution_count": 15
        }
      ]
    },
    {
      "cell_type": "code",
      "source": [
        "print(Friends)"
      ],
      "metadata": {
        "colab": {
          "base_uri": "https://localhost:8080/"
        },
        "id": "ROGfK2158gfp",
        "outputId": "a18b0a8c-9cdd-4578-f8ba-3ca448fdfdff"
      },
      "execution_count": 17,
      "outputs": [
        {
          "output_type": "stream",
          "name": "stdout",
          "text": [
            "['Parvathy', 'Avanthika', 'Amritha', 'Ashritha']\n"
          ]
        }
      ]
    },
    {
      "cell_type": "code",
      "source": [
        "Friends.append(\"Sneha\")"
      ],
      "metadata": {
        "id": "oNvs31Za8vJR"
      },
      "execution_count": 18,
      "outputs": []
    },
    {
      "cell_type": "code",
      "source": [
        "print(Friends)"
      ],
      "metadata": {
        "colab": {
          "base_uri": "https://localhost:8080/"
        },
        "id": "hZulHp9Z-cJJ",
        "outputId": "723692eb-6820-4075-dd09-09c1ff28bdec"
      },
      "execution_count": 19,
      "outputs": [
        {
          "output_type": "stream",
          "name": "stdout",
          "text": [
            "['Parvathy', 'Avanthika', 'Amritha', 'Ashritha', 'Sneha']\n"
          ]
        }
      ]
    },
    {
      "cell_type": "code",
      "source": [
        "Friends.sort()"
      ],
      "metadata": {
        "id": "i20s-Pzh-f4R"
      },
      "execution_count": 23,
      "outputs": []
    },
    {
      "cell_type": "code",
      "source": [
        "print(Friends)"
      ],
      "metadata": {
        "colab": {
          "base_uri": "https://localhost:8080/"
        },
        "id": "zC7DWNdl-5dC",
        "outputId": "5c3e0583-f1fa-47e4-ed6d-91b19e607569"
      },
      "execution_count": 24,
      "outputs": [
        {
          "output_type": "stream",
          "name": "stdout",
          "text": [
            "['Amritha', 'Ashritha', 'Avanthika', 'Parvathy', 'Sneha']\n"
          ]
        }
      ]
    },
    {
      "cell_type": "code",
      "source": [
        "fruits1=['mango','kiwi','watermelon','strawberry']\n",
        "fruits2=['banana','apple','orange','sweetmelon']\n",
        "print(fruits1+fruits2)"
      ],
      "metadata": {
        "colab": {
          "base_uri": "https://localhost:8080/"
        },
        "id": "_hv1UHW4_wy9",
        "outputId": "e5eb2ef3-0fd4-40d1-9fd6-ceb2c836bd46"
      },
      "execution_count": 25,
      "outputs": [
        {
          "output_type": "stream",
          "name": "stdout",
          "text": [
            "['mango', 'kiwi', 'watermelon', 'strawberry', 'banana', 'apple', 'orange', 'sweetmelon']\n"
          ]
        }
      ]
    },
    {
      "cell_type": "code",
      "source": [
        "countries=('India','Pakistan','Oman','Afghanistan','Singapore')"
      ],
      "metadata": {
        "id": "gphiFJYuCsgo"
      },
      "execution_count": 26,
      "outputs": []
    },
    {
      "cell_type": "code",
      "source": [
        "type(countries)"
      ],
      "metadata": {
        "colab": {
          "base_uri": "https://localhost:8080/"
        },
        "id": "42ehND6zEJ12",
        "outputId": "25383770-a03e-4fe6-e3f6-b86d70620e97"
      },
      "execution_count": 28,
      "outputs": [
        {
          "output_type": "execute_result",
          "data": {
            "text/plain": [
              "tuple"
            ]
          },
          "metadata": {},
          "execution_count": 28
        }
      ]
    },
    {
      "cell_type": "code",
      "source": [
        "h={1,2,3,4,5.5,6.8}\n",
        "type(h)"
      ],
      "metadata": {
        "colab": {
          "base_uri": "https://localhost:8080/"
        },
        "id": "u8q0kvE7EM-N",
        "outputId": "b01d0497-89bb-40fe-f58c-963e829f58df"
      },
      "execution_count": 29,
      "outputs": [
        {
          "output_type": "execute_result",
          "data": {
            "text/plain": [
              "set"
            ]
          },
          "metadata": {},
          "execution_count": 29
        }
      ]
    },
    {
      "cell_type": "code",
      "source": [
        "marks=[10,20,20,30,40]\n",
        "sett=set(marks)\n",
        "print(sett)"
      ],
      "metadata": {
        "colab": {
          "base_uri": "https://localhost:8080/"
        },
        "id": "uCbS2LlBFxaJ",
        "outputId": "34ba0f64-cad0-45f2-f03e-b0c13fc5bcf6"
      },
      "execution_count": 30,
      "outputs": [
        {
          "output_type": "stream",
          "name": "stdout",
          "text": [
            "{40, 10, 20, 30}\n"
          ]
        }
      ]
    },
    {
      "cell_type": "code",
      "source": [
        "student={'Name':'Veenus','Favorite fruit':'Mango','Place':'Thrissur'}\n",
        "student['year']=2022\n",
        "print(student)\n",
        "\n"
      ],
      "metadata": {
        "colab": {
          "base_uri": "https://localhost:8080/"
        },
        "id": "s2l26xKkHU4Y",
        "outputId": "68c2e50f-9a19-47ea-ef02-324a533ce7e8"
      },
      "execution_count": 31,
      "outputs": [
        {
          "output_type": "stream",
          "name": "stdout",
          "text": [
            "{'Name': 'Veenus', 'Favorite fruit': 'Mango', 'Place': 'Thrissur', 'year': 2022}\n"
          ]
        }
      ]
    },
    {
      "cell_type": "code",
      "source": [
        "def add(x,y):\n",
        "  return(x+y)\n",
        "add(8,8)"
      ],
      "metadata": {
        "colab": {
          "base_uri": "https://localhost:8080/"
        },
        "id": "AibOrw5-KeEE",
        "outputId": "5ea9d38e-5609-405f-cd76-3aaf9fb2f42c"
      },
      "execution_count": 33,
      "outputs": [
        {
          "output_type": "execute_result",
          "data": {
            "text/plain": [
              "16"
            ]
          },
          "metadata": {},
          "execution_count": 33
        }
      ]
    },
    {
      "cell_type": "code",
      "source": [
        "def multiply(x,y,z):\n",
        "  return(x*y*z)\n",
        "multiply(8,8,8)"
      ],
      "metadata": {
        "colab": {
          "base_uri": "https://localhost:8080/"
        },
        "id": "ywqb41e_LyMs",
        "outputId": "838ce986-b898-4590-a1f6-264819d56ec9"
      },
      "execution_count": 34,
      "outputs": [
        {
          "output_type": "execute_result",
          "data": {
            "text/plain": [
              "512"
            ]
          },
          "metadata": {},
          "execution_count": 34
        }
      ]
    },
    {
      "cell_type": "code",
      "source": [],
      "metadata": {
        "id": "wOGdvpmjMqCq"
      },
      "execution_count": null,
      "outputs": []
    }
  ]
}